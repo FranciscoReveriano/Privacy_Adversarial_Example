{
 "cells": [
  {
   "cell_type": "markdown",
   "metadata": {},
   "source": [
    "# Adversarial Attacks Against Eye Tracking Data"
   ]
  },
  {
   "cell_type": "code",
   "execution_count": 1,
   "metadata": {
    "ExecuteTime": {
     "end_time": "2020-04-01T19:32:11.143628Z",
     "start_time": "2020-04-01T19:32:10.593247Z"
    }
   },
   "outputs": [],
   "source": [
    "import numpy as np\n",
    "import pandas as pd\n",
    "import sklearn\n",
    "from Reader.Reader import * \n",
    "import matplotlib.pyplot as plt\n",
    "%matplotlib inline\n",
    "from sklearn.metrics import accuracy_score\n",
    "from sklearn.metrics import precision_score\n",
    "from sklearn.metrics import recall_score\n",
    "from sklearn.metrics import plot_roc_curve\n",
    "from sklearn.metrics import roc_auc_score"
   ]
  },
  {
   "cell_type": "markdown",
   "metadata": {
    "ExecuteTime": {
     "end_time": "2020-03-28T23:50:20.494160Z",
     "start_time": "2020-03-28T23:50:20.486853Z"
    }
   },
   "source": [
    "## Base Model\n",
    "The first part is setting up our base model. \n",
    "Here we will try to use different modelts to see whether we can predict if the user is engaged or not engaged to a work of art. "
   ]
  },
  {
   "cell_type": "markdown",
   "metadata": {},
   "source": [
    "### Load Dataframe "
   ]
  },
  {
   "cell_type": "code",
   "execution_count": 2,
   "metadata": {
    "ExecuteTime": {
     "end_time": "2020-04-01T19:32:11.168471Z",
     "start_time": "2020-04-01T19:32:11.145460Z"
    }
   },
   "outputs": [
    {
     "name": "stdout",
     "output_type": "stream",
     "text": [
      "Number of Files: 20\n",
      "(20, 15)\n"
     ]
    }
   ],
   "source": [
    "Eye_Data_Path = \"/home/franciscoAML/Documents/Privacy_Adversarial_Example/Eye_Data\"\n",
    "Dataframe = Reader(Eye_Data_Path).load_file()\n",
    "print(Dataframe.shape)"
   ]
  },
  {
   "cell_type": "code",
   "execution_count": 3,
   "metadata": {
    "ExecuteTime": {
     "end_time": "2020-04-01T19:32:11.227668Z",
     "start_time": "2020-04-01T19:32:11.170086Z"
    }
   },
   "outputs": [
    {
     "name": "stdout",
     "output_type": "stream",
     "text": [
      "Engagement\n",
      "Average Blink Rate\n",
      "Focus Ratio\n",
      "Average Focus Deviation Rate\n",
      "Number of Focused Fixations\n",
      "Mean Focused Fixation Duration\n",
      "Median Focused Fixation Duration\n",
      "Time to First Fixation\n",
      "RFDSD\n",
      "Standard Deviation (X)\n",
      "Standard Deviation (Y)\n",
      "Standard Distance (XY)\n",
      "Number of Saccades\n",
      "Mean Focused Saccade Amplitude\n",
      "Median Focused Saccade Amplitude\n"
     ]
    }
   ],
   "source": [
    "# Read the Column Names\n",
    "for col in Dataframe.columns:\n",
    "    print(col)"
   ]
  },
  {
   "cell_type": "markdown",
   "metadata": {},
   "source": [
    "### Split the Dataframe\n",
    "Here we need to split the dataset into x and y. Y being whether the user is engaged or not engaged. \n"
   ]
  },
  {
   "cell_type": "code",
   "execution_count": 4,
   "metadata": {
    "ExecuteTime": {
     "end_time": "2020-04-01T19:32:11.291369Z",
     "start_time": "2020-04-01T19:32:11.230197Z"
    }
   },
   "outputs": [
    {
     "name": "stdout",
     "output_type": "stream",
     "text": [
      "Y Shape: (20, 1)\n",
      "X Shape: (20, 14)\n"
     ]
    }
   ],
   "source": [
    "Y = pd.DataFrame(Dataframe[\"Engagement\"])\n",
    "X = Dataframe.drop([\"Engagement\"], axis=1)\n",
    "print(\"Y Shape:\", Y.shape)\n",
    "print(\"X Shape:\", X.shape)"
   ]
  },
  {
   "cell_type": "markdown",
   "metadata": {},
   "source": [
    "## Split the Model Into Cross Validation Dataset\n",
    "Will use 70% for training and 30% for testing"
   ]
  },
  {
   "cell_type": "code",
   "execution_count": 5,
   "metadata": {
    "ExecuteTime": {
     "end_time": "2020-04-01T19:32:11.362473Z",
     "start_time": "2020-04-01T19:32:11.293472Z"
    }
   },
   "outputs": [
    {
     "name": "stdout",
     "output_type": "stream",
     "text": [
      "Size of Training Dataset: 12\n",
      "Size of Testing Dataset: 8\n"
     ]
    }
   ],
   "source": [
    "# Import Necessary Package\n",
    "from sklearn.model_selection import train_test_split\n",
    "\n",
    "# Proceed to make the split\n",
    "X_train, X_test, Y_train, Y_test = train_test_split(X,Y, test_size=.4)\n",
    "print(\"Size of Training Dataset:\", len(X_train))\n",
    "print(\"Size of Testing Dataset:\", len(X_test))"
   ]
  },
  {
   "cell_type": "markdown",
   "metadata": {},
   "source": [
    "## Models"
   ]
  },
  {
   "cell_type": "markdown",
   "metadata": {},
   "source": [
    "### Training/Testing on Naive Bayes"
   ]
  },
  {
   "cell_type": "code",
   "execution_count": 6,
   "metadata": {
    "ExecuteTime": {
     "end_time": "2020-04-01T19:32:11.604236Z",
     "start_time": "2020-04-01T19:32:11.364570Z"
    }
   },
   "outputs": [
    {
     "name": "stdout",
     "output_type": "stream",
     "text": [
      "Training Results\n",
      "Accuracy on Training: 1.0\n",
      "Precision on Training: 1.0\n",
      "Recall on Training: 1.0\n",
      "AUC on Training: 1.0\n",
      "\n",
      "Testing Results\n",
      "Accuracy on Testing: 0.75\n",
      "Precision on Testing: 0.714\n",
      "Recall on Testing: 1.0\n",
      "AUC on Testing: 0.667\n"
     ]
    },
    {
     "name": "stderr",
     "output_type": "stream",
     "text": [
      "/home/franciscoAML/anaconda3/envs/AI/lib/python3.7/site-packages/sklearn/naive_bayes.py:206: DataConversionWarning: A column-vector y was passed when a 1d array was expected. Please change the shape of y to (n_samples, ), for example using ravel().\n",
      "  y = column_or_1d(y, warn=True)\n"
     ]
    },
    {
     "data": {
      "text/plain": [
       "<sklearn.metrics._plot.roc_curve.RocCurveDisplay at 0x7f1f0fb6f190>"
      ]
     },
     "execution_count": 6,
     "metadata": {},
     "output_type": "execute_result"
    },
    {
     "data": {
      "image/png": "[encoded data removed]",
      "text/plain": [
       "<Figure size 432x288 with 1 Axes>"
      ]
     },
     "metadata": {
      "needs_background": "light"
     },
     "output_type": "display_data"
    }
   ],
   "source": [
    "### Linear Support Vector Machine\n",
    "from sklearn.naive_bayes import GaussianNB\n",
    "\n",
    "## Proceed To Prepare Linear SVM \n",
    "linear_svc = GaussianNB()\n",
    "linear_svc.fit(X_train, Y_train)\n",
    "\n",
    "## Proceed to Test Performance on the Training Dataset\n",
    "Y_train_predict = linear_svc.predict(X_train)\n",
    "\n",
    "## Proceed to write accuracy\n",
    "train_accuracy = accuracy_score(Y_train,Y_train_predict)\n",
    "train_precision = precision_score(Y_train, Y_train_predict)\n",
    "train_recall = recall_score(Y_train, Y_train_predict)\n",
    "train_auc = roc_auc_score(Y_train, Y_train_predict)\n",
    "\n",
    "print(\"Training Results\")\n",
    "print(\"Accuracy on Training:\", round(train_accuracy,3))\n",
    "print(\"Precision on Training:\", round(train_precision, 3))\n",
    "print(\"Recall on Training:\", round(train_recall,3))\n",
    "print(\"AUC on Training:\", round(train_auc,3))\n",
    "\n",
    "## Proceed to Test on Testing Dataset\n",
    "Y_test_predict = linear_svc.predict(X_test)\n",
    "\n",
    "# Proceed to Calculate Scores\n",
    "test_accuracy = accuracy_score(Y_test,Y_test_predict)\n",
    "test_precision = precision_score(Y_test, Y_test_predict)\n",
    "test_recall = recall_score(Y_test, Y_test_predict)\n",
    "test_auc = roc_auc_score(Y_test, Y_test_predict)\n",
    "\n",
    "print(\"\\nTesting Results\")\n",
    "print(\"Accuracy on Testing:\", round(test_accuracy,3))\n",
    "print(\"Precision on Testing:\", round(test_precision, 3))\n",
    "print(\"Recall on Testing:\", round(test_recall,3))\n",
    "print(\"AUC on Testing:\", round(test_auc,3))\n",
    "\n",
    "## Proceed to Graph ROC Curve\n",
    "plot_roc_curve(linear_svc, X_test, Y_test)"
   ]
  },
  {
   "cell_type": "markdown",
   "metadata": {},
   "source": [
    "### Training/Testing Linear SVM"
   ]
  },
  {
   "cell_type": "code",
   "execution_count": 7,
   "metadata": {
    "ExecuteTime": {
     "end_time": "2020-04-01T19:32:11.761883Z",
     "start_time": "2020-04-01T19:32:11.606692Z"
    }
   },
   "outputs": [
    {
     "name": "stderr",
     "output_type": "stream",
     "text": [
      "/home/franciscoAML/anaconda3/envs/AI/lib/python3.7/site-packages/sklearn/utils/validation.py:760: DataConversionWarning: A column-vector y was passed when a 1d array was expected. Please change the shape of y to (n_samples, ), for example using ravel().\n",
      "  y = column_or_1d(y, warn=True)\n"
     ]
    },
    {
     "name": "stdout",
     "output_type": "stream",
     "text": [
      "Training Results\n",
      "Accuracy on Training: 1.0\n",
      "Precision on Training: 1.0\n",
      "Recall on Training: 1.0\n",
      "AUC on Training: 1.0\n",
      "\n",
      "Testing Results\n",
      "Accuracy on Testing: 0.75\n",
      "Precision on Testing: 0.714\n",
      "Recall on Testing: 1.0\n",
      "AUC on Testing: 0.667\n"
     ]
    },
    {
     "data": {
      "text/plain": [
       "<sklearn.metrics._plot.roc_curve.RocCurveDisplay at 0x7f1f0faf5c90>"
      ]
     },
     "execution_count": 7,
     "metadata": {},
     "output_type": "execute_result"
    },
    {
     "data": {
      "image/png": "[encoded data removed]",
      "text/plain": [
       "<Figure size 432x288 with 1 Axes>"
      ]
     },
     "metadata": {
      "needs_background": "light"
     },
     "output_type": "display_data"
    }
   ],
   "source": [
    "### Linear Support Vector Machine\n",
    "from sklearn import svm\n",
    "\n",
    "## Proceed To Prepare Linear SVM \n",
    "linear_svc = svm.SVC(kernel='linear')\n",
    "linear_svc.fit(X_train, Y_train)\n",
    "\n",
    "## Proceed to Test Performance on the Training Dataset\n",
    "Y_train_predict = linear_svc.predict(X_train)\n",
    "\n",
    "## Proceed to write accuracy\n",
    "train_accuracy = accuracy_score(Y_train,Y_train_predict)\n",
    "train_precision = precision_score(Y_train, Y_train_predict)\n",
    "train_recall = recall_score(Y_train, Y_train_predict)\n",
    "train_auc = roc_auc_score(Y_train, Y_train_predict)\n",
    "\n",
    "print(\"Training Results\")\n",
    "print(\"Accuracy on Training:\", round(train_accuracy,3))\n",
    "print(\"Precision on Training:\", round(train_precision, 3))\n",
    "print(\"Recall on Training:\", round(train_recall,3))\n",
    "print(\"AUC on Training:\", round(train_auc,3))\n",
    "\n",
    "## Proceed to Test on Testing Dataset\n",
    "Y_test_predict = linear_svc.predict(X_test)\n",
    "\n",
    "# Proceed to Calculate Scores\n",
    "test_accuracy = accuracy_score(Y_test,Y_test_predict)\n",
    "test_precision = precision_score(Y_test, Y_test_predict)\n",
    "test_recall = recall_score(Y_test, Y_test_predict)\n",
    "test_auc = roc_auc_score(Y_test, Y_test_predict)\n",
    "\n",
    "print(\"\\nTesting Results\")\n",
    "print(\"Accuracy on Testing:\", round(test_accuracy,3))\n",
    "print(\"Precision on Testing:\", round(test_precision, 3))\n",
    "print(\"Recall on Testing:\", round(test_recall,3))\n",
    "print(\"AUC on Testing:\", round(test_auc,3))\n",
    "\n",
    "## Proceed to Graph ROC Curve\n",
    "plot_roc_curve(linear_svc, X_test, Y_test)"
   ]
  },
  {
   "cell_type": "markdown",
   "metadata": {},
   "source": [
    "### Training/Testing NonLinear SVM"
   ]
  },
  {
   "cell_type": "code",
   "execution_count": 8,
   "metadata": {
    "ExecuteTime": {
     "end_time": "2020-04-01T19:32:11.905429Z",
     "start_time": "2020-04-01T19:32:11.763508Z"
    }
   },
   "outputs": [
    {
     "name": "stdout",
     "output_type": "stream",
     "text": [
      "Training Results\n",
      "Accuracy on Training: 0.75\n",
      "Precision on Training: 1.0\n",
      "Recall on Training: 0.4\n",
      "AUC on Training: 0.7\n",
      "\n",
      "Testing Results\n",
      "Accuracy on Testing: 0.75\n",
      "Precision on Testing: 0.714\n",
      "Recall on Testing: 1.0\n",
      "AUC on Testing: 0.667\n"
     ]
    },
    {
     "name": "stderr",
     "output_type": "stream",
     "text": [
      "/home/franciscoAML/anaconda3/envs/AI/lib/python3.7/site-packages/sklearn/utils/validation.py:760: DataConversionWarning: A column-vector y was passed when a 1d array was expected. Please change the shape of y to (n_samples, ), for example using ravel().\n",
      "  y = column_or_1d(y, warn=True)\n"
     ]
    },
    {
     "data": {
      "text/plain": [
       "<sklearn.metrics._plot.roc_curve.RocCurveDisplay at 0x7f1f3c29d7d0>"
      ]
     },
     "execution_count": 8,
     "metadata": {},
     "output_type": "execute_result"
    },
    {
     "data": {
      "image/png": "[encoded data removed]",
      "text/plain": [
       "<Figure size 432x288 with 1 Axes>"
      ]
     },
     "metadata": {
      "needs_background": "light"
     },
     "output_type": "display_data"
    }
   ],
   "source": [
    "### RBF Support Vector Machine\n",
    "from sklearn import svm\n",
    "\n",
    "## Proceed To Prepare Linear SVM \n",
    "rbf_svc = svm.SVC(kernel='rbf')\n",
    "rbf_svc.fit(X_train, Y_train)\n",
    "\n",
    "## Proceed to Test Performance on the Training Dataset\n",
    "Y_train_predict = rbf_svc.predict(X_train)\n",
    "\n",
    "## Proceed to write accuracy\n",
    "train_accuracy = accuracy_score(Y_train,Y_train_predict)\n",
    "train_precision = precision_score(Y_train, Y_train_predict)\n",
    "train_recall = recall_score(Y_train, Y_train_predict)\n",
    "train_auc = roc_auc_score(Y_train, Y_train_predict)\n",
    "\n",
    "print(\"Training Results\")\n",
    "print(\"Accuracy on Training:\", round(train_accuracy,3))\n",
    "print(\"Precision on Training:\", round(train_precision, 3))\n",
    "print(\"Recall on Training:\", round(train_recall,3))\n",
    "print(\"AUC on Training:\", round(train_auc,3))\n",
    "\n",
    "## Proceed to Test on Testing Dataset\n",
    "Y_test_predict = linear_svc.predict(X_test)\n",
    "\n",
    "# Proceed to Calculate Scores\n",
    "test_accuracy = accuracy_score(Y_test,Y_test_predict)\n",
    "test_precision = precision_score(Y_test, Y_test_predict)\n",
    "test_recall = recall_score(Y_test, Y_test_predict)\n",
    "test_auc = roc_auc_score(Y_test, Y_test_predict)\n",
    "\n",
    "print(\"\\nTesting Results\")\n",
    "print(\"Accuracy on Testing:\", round(test_accuracy,3))\n",
    "print(\"Precision on Testing:\", round(test_precision, 3))\n",
    "print(\"Recall on Testing:\", round(test_recall,3))\n",
    "print(\"AUC on Testing:\", round(test_auc,3))\n",
    "\n",
    "## Proceed to Graph ROC Curve\n",
    "plot_roc_curve(linear_svc, X_test, Y_test)"
   ]
  },
  {
   "cell_type": "markdown",
   "metadata": {},
   "source": [
    "## Adding Guassian Notes On Inputs\n"
   ]
  },
  {
   "cell_type": "markdown",
   "metadata": {},
   "source": [
    "### Calculate STD\n",
    "\n",
    "We need to get the Standard Deviation (STD) to be able to sample the correct gaussian distribution to add noise to the inputs of the model. "
   ]
  },
  {
   "cell_type": "code",
   "execution_count": 9,
   "metadata": {
    "ExecuteTime": {
     "end_time": "2020-04-01T19:32:11.929334Z",
     "start_time": "2020-04-01T19:32:11.906666Z"
    }
   },
   "outputs": [
    {
     "name": "stdout",
     "output_type": "stream",
     "text": [
      "Engagement : 0.5\n",
      "Average Blink Rate : 7.505\n",
      "Focus Ratio : 0.136\n",
      "Average Focus Deviation Rate : 19.097\n",
      "Number of Focused Fixations : 42.52\n",
      "Mean Focused Fixation Duration : 87.33\n",
      "Median Focused Fixation Duration : 25.705\n",
      "Time to First Fixation : 337.493\n",
      "RFDSD : 8.585\n",
      "Standard Deviation (X) : 0.079\n",
      "Standard Deviation (Y) : 0.04\n",
      "Standard Distance (XY) : 0.083\n",
      "Number of Saccades : 42.52\n",
      "Mean Focused Saccade Amplitude : 0.036\n",
      "Median Focused Saccade Amplitude : 0.05\n",
      "{'Engagement': [0.5, 0.5], 'Average Blink Rate': [25.829401469669484, 7.505243237915178], 'Focus Ratio': [0.7875558559957454, 0.13621752407199625], 'Average Focus Deviation Rate': [25.74455979880176, 19.097287318702545], 'Number of Focused Fixations': [171.45, 42.51996589838708], 'Mean Focused Fixation Duration': [297.4713150886282, 87.3297390671351], 'Median Focused Fixation Duration': [179.28245499999989, 25.704638637558862], 'Time to First Fixation': [357.781695, 337.4926840618097], 'RFDSD': [0.4269395491952929, 8.585376456997622], 'Standard Deviation (X)': [0.12620334979146713, 0.07874881819138793], 'Standard Deviation (Y)': [0.05903788721188903, 0.0396784675741404], 'Standard Distance (XY)': [0.14219733821228156, 0.08347713326367466], 'Number of Saccades': [170.45, 42.51996589838708], 'Mean Focused Saccade Amplitude': [0.07191371848563295, 0.03569344745503173], 'Median Focused Saccade Amplitude': [0.055000000819563785, 0.049749372596654344]}\n"
     ]
    }
   ],
   "source": [
    "# Declare Dictionary\n",
    "Dict = {}\n",
    "\n",
    "# Populate Dictionary With the STD \n",
    "for column in Dataframe: \n",
    "    column_list = []\n",
    "    column_list.append(np.mean(Dataframe[column]))\n",
    "    column_list.append(np.std(Dataframe[column]))\n",
    "    Dict[column] = column_list\n",
    "    print(column,\":\", round(np.std(Dataframe[column]),3))\n",
    "\n",
    "print(Dict)"
   ]
  },
  {
   "cell_type": "markdown",
   "metadata": {},
   "source": [
    "### Random Sample Noise"
   ]
  },
  {
   "cell_type": "markdown",
   "metadata": {
    "ExecuteTime": {
     "end_time": "2020-04-01T16:34:07.533916Z",
     "start_time": "2020-04-01T16:34:07.530413Z"
    }
   },
   "source": [
    "### Make Copy of Dataframes\n",
    "\n",
    "We are making a copy of the datasets in order to preserve integrity of the dataset. "
   ]
  },
  {
   "cell_type": "code",
   "execution_count": 10,
   "metadata": {
    "ExecuteTime": {
     "end_time": "2020-04-01T19:32:11.978942Z",
     "start_time": "2020-04-01T19:32:11.930518Z"
    }
   },
   "outputs": [],
   "source": [
    "# We are making a copy of the original dataframes to add noise to\n",
    "\n",
    "noise_y = Y\n",
    "noise_x = X"
   ]
  },
  {
   "cell_type": "markdown",
   "metadata": {},
   "source": [
    "### Loop Through and Add Noise\n",
    "\n",
    "We are only adding noise to the X Dataframe which contains the Feature Matrix. \n",
    "We are not altering the Y Dataframe in any shape or form. "
   ]
  },
  {
   "cell_type": "code",
   "execution_count": 11,
   "metadata": {
    "ExecuteTime": {
     "end_time": "2020-04-01T19:32:12.102906Z",
     "start_time": "2020-04-01T19:32:11.981392Z"
    }
   },
   "outputs": [],
   "source": [
    "## We proceed to add noise to all x-variables \n",
    "noise_mean = 0\n",
    "size_of_noise = 0.1\n",
    "\n",
    "# Proceed Through Each Column\n",
    "for column in noise_x:\n",
    "    # Proceed Through each location\n",
    "    for i in range(len(noise_x[column])):\n",
    "        noise = np.random.uniform(noise_mean, size_of_noise)\n",
    "        noise_x[column].iloc[i] = noise_x[column].iloc[i] + noise"
   ]
  },
  {
   "cell_type": "markdown",
   "metadata": {
    "ExecuteTime": {
     "end_time": "2020-04-01T19:07:18.215003Z",
     "start_time": "2020-04-01T19:07:18.210113Z"
    }
   },
   "source": [
    "## Test Models "
   ]
  },
  {
   "cell_type": "markdown",
   "metadata": {},
   "source": [
    "### Splitting the Dataset"
   ]
  },
  {
   "cell_type": "code",
   "execution_count": 12,
   "metadata": {
    "ExecuteTime": {
     "end_time": "2020-04-01T19:32:12.152383Z",
     "start_time": "2020-04-01T19:32:12.104437Z"
    }
   },
   "outputs": [
    {
     "name": "stdout",
     "output_type": "stream",
     "text": [
      "Size of Training Dataset: 12\n",
      "Size of Testing Dataset: 8\n"
     ]
    }
   ],
   "source": [
    "# Proceed to make the split\n",
    "X_train, X_test, Y_train, Y_test = train_test_split(noise_x,noise_y, test_size=.4)\n",
    "print(\"Size of Training Dataset:\", len(X_train))\n",
    "print(\"Size of Testing Dataset:\", len(X_test))"
   ]
  },
  {
   "cell_type": "markdown",
   "metadata": {},
   "source": [
    "### Training/Test Naive Bayes Model"
   ]
  },
  {
   "cell_type": "code",
   "execution_count": 13,
   "metadata": {
    "ExecuteTime": {
     "end_time": "2020-04-01T19:32:12.358206Z",
     "start_time": "2020-04-01T19:32:12.154178Z"
    }
   },
   "outputs": [
    {
     "name": "stdout",
     "output_type": "stream",
     "text": [
      "Training Results\n",
      "Accuracy on Training: 1.0\n",
      "Precision on Training: 1.0\n",
      "Recall on Training: 1.0\n",
      "AUC on Training: 1.0\n",
      "\n",
      "Testing Results\n",
      "Accuracy on Testing: 0.75\n",
      "Precision on Testing: 0.75\n",
      "Recall on Testing: 0.75\n",
      "AUC on Testing: 0.75\n"
     ]
    },
    {
     "name": "stderr",
     "output_type": "stream",
     "text": [
      "/home/franciscoAML/anaconda3/envs/AI/lib/python3.7/site-packages/sklearn/naive_bayes.py:206: DataConversionWarning: A column-vector y was passed when a 1d array was expected. Please change the shape of y to (n_samples, ), for example using ravel().\n",
      "  y = column_or_1d(y, warn=True)\n"
     ]
    },
    {
     "data": {
      "image/png": "[encoded data removed]",
      "text/plain": [
       "<Figure size 432x288 with 1 Axes>"
      ]
     },
     "metadata": {
      "needs_background": "light"
     },
     "output_type": "display_data"
    }
   ],
   "source": [
    "from Models.Naive_Bayes import * \n",
    "\n",
    "Naive_Bayes_Model(X_train, Y_train, X_test, Y_test)"
   ]
  },
  {
   "cell_type": "markdown",
   "metadata": {
    "ExecuteTime": {
     "end_time": "2020-04-01T19:13:56.537108Z",
     "start_time": "2020-04-01T19:13:56.533573Z"
    }
   },
   "source": [
    "### Training/Testing Linear SVM "
   ]
  },
  {
   "cell_type": "code",
   "execution_count": 14,
   "metadata": {
    "ExecuteTime": {
     "end_time": "2020-04-01T19:32:12.497414Z",
     "start_time": "2020-04-01T19:32:12.359667Z"
    }
   },
   "outputs": [
    {
     "name": "stderr",
     "output_type": "stream",
     "text": [
      "/home/franciscoAML/anaconda3/envs/AI/lib/python3.7/site-packages/sklearn/utils/validation.py:760: DataConversionWarning: A column-vector y was passed when a 1d array was expected. Please change the shape of y to (n_samples, ), for example using ravel().\n",
      "  y = column_or_1d(y, warn=True)\n"
     ]
    },
    {
     "name": "stdout",
     "output_type": "stream",
     "text": [
      "Training Results\n",
      "Accuracy on Training: 1.0\n",
      "Precision on Training: 1.0\n",
      "Recall on Training: 1.0\n",
      "AUC on Training: 1.0\n",
      "\n",
      "Testing Results\n",
      "Accuracy on Testing: 0.625\n",
      "Precision on Testing: 0.667\n",
      "Recall on Testing: 0.5\n",
      "AUC on Testing: 0.625\n"
     ]
    },
    {
     "data": {
      "image/png": "[encoded data removed]",
      "text/plain": [
       "<Figure size 432x288 with 1 Axes>"
      ]
     },
     "metadata": {
      "needs_background": "light"
     },
     "output_type": "display_data"
    }
   ],
   "source": [
    "from Models.Linear_SVM import * \n",
    "\n",
    "Linear_SVM_Model(X_train, Y_train, X_test, Y_test)"
   ]
  },
  {
   "cell_type": "markdown",
   "metadata": {},
   "source": [
    "### Training/Testing NonLinear SVM"
   ]
  },
  {
   "cell_type": "code",
   "execution_count": 15,
   "metadata": {
    "ExecuteTime": {
     "end_time": "2020-04-01T19:32:12.635435Z",
     "start_time": "2020-04-01T19:32:12.498652Z"
    }
   },
   "outputs": [
    {
     "name": "stderr",
     "output_type": "stream",
     "text": [
      "/home/franciscoAML/anaconda3/envs/AI/lib/python3.7/site-packages/sklearn/utils/validation.py:760: DataConversionWarning: A column-vector y was passed when a 1d array was expected. Please change the shape of y to (n_samples, ), for example using ravel().\n",
      "  y = column_or_1d(y, warn=True)\n"
     ]
    },
    {
     "name": "stdout",
     "output_type": "stream",
     "text": [
      "Training Results\n",
      "Accuracy on Training: 0.667\n",
      "Precision on Training: 1.0\n",
      "Recall on Training: 0.333\n",
      "AUC on Training: 0.667\n",
      "\n",
      "Testing Results\n",
      "Accuracy on Testing: 0.625\n",
      "Precision on Testing: 1.0\n",
      "Recall on Testing: 0.25\n",
      "AUC on Testing: 0.625\n"
     ]
    },
    {
     "data": {
      "image/png": "[encoded data removed]",
      "text/plain": [
       "<Figure size 432x288 with 1 Axes>"
      ]
     },
     "metadata": {
      "needs_background": "light"
     },
     "output_type": "display_data"
    }
   ],
   "source": [
    "from Models.NonLinear_SVM import * \n",
    "\n",
    "NonLinear_Model(X_train, Y_train, X_test, Y_test)"
   ]
  },
  {
   "cell_type": "code",
   "execution_count": null,
   "metadata": {},
   "outputs": [],
   "source": []
  }
 ],
 "metadata": {
  "kernelspec": {
   "display_name": "Python [conda env:AI] *",
   "language": "python",
   "name": "conda-env-AI-py"
  },
  "language_info": {
   "codemirror_mode": {
    "name": "ipython",
    "version": 3
   },
   "file_extension": ".py",
   "mimetype": "text/x-python",
   "name": "python",
   "nbconvert_exporter": "python",
   "pygments_lexer": "ipython3",
   "version": "3.7.4"
  },
  "toc": {
   "base_numbering": 1,
   "nav_menu": {},
   "number_sections": true,
   "sideBar": true,
   "skip_h1_title": true,
   "title_cell": "Table of Contents",
   "title_sidebar": "Contents",
   "toc_cell": false,
   "toc_position": {
    "height": "calc(100% - 180px)",
    "left": "10px",
    "top": "150px",
    "width": "498.6px"
   },
   "toc_section_display": true,
   "toc_window_display": true
  }
 },
 "nbformat": 4,
 "nbformat_minor": 4
}

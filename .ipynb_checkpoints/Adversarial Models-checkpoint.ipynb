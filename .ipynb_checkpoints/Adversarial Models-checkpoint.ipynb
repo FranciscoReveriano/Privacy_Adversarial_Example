{
 "cells": [
  {
   "cell_type": "markdown",
   "metadata": {},
   "source": [
    "# Adversarial Attacks Against Eye Tracking Data"
   ]
  },
  {
   "cell_type": "code",
   "execution_count": 16,
   "metadata": {
    "ExecuteTime": {
     "end_time": "2020-03-29T00:55:46.014144Z",
     "start_time": "2020-03-29T00:55:46.005099Z"
    }
   },
   "outputs": [],
   "source": [
    "import numpy as np\n",
    "import pandas as pd\n",
    "import sklearn\n",
    "from Reader.Reader import * \n",
    "import matplotlib.pyplot as plt\n",
    "%matplotlib inline\n",
    "from sklearn.metrics import accuracy_score\n",
    "from sklearn.metrics import precision_score\n",
    "from sklearn.metrics import recall_score\n",
    "from sklearn.metrics import plot_roc_curve"
   ]
  },
  {
   "cell_type": "markdown",
   "metadata": {
    "ExecuteTime": {
     "end_time": "2020-03-28T23:50:20.494160Z",
     "start_time": "2020-03-28T23:50:20.486853Z"
    }
   },
   "source": [
    "## Base Model\n",
    "The first part is setting up our base model. \n",
    "Here we will try to use different modelts to see whether we can predict if the user is engaged or not engaged to a work of art. "
   ]
  },
  {
   "cell_type": "markdown",
   "metadata": {},
   "source": [
    "### Load Dataframe "
   ]
  },
  {
   "cell_type": "code",
   "execution_count": 2,
   "metadata": {
    "ExecuteTime": {
     "end_time": "2020-03-29T00:19:09.117270Z",
     "start_time": "2020-03-29T00:19:09.085311Z"
    }
   },
   "outputs": [
    {
     "name": "stdout",
     "output_type": "stream",
     "text": [
      "Number of Files: 30\n",
      "(30, 15)\n"
     ]
    }
   ],
   "source": [
    "Eye_Data_Path = \"/home/franciscoAML/Documents/Privacy_Adversarial_Example/Eye_Data\"\n",
    "Dataframe = Reader(Eye_Data_Path).load_file()\n",
    "print(Dataframe.shape)"
   ]
  },
  {
   "cell_type": "code",
   "execution_count": 3,
   "metadata": {
    "ExecuteTime": {
     "end_time": "2020-03-29T00:19:09.165859Z",
     "start_time": "2020-03-29T00:19:09.118580Z"
    }
   },
   "outputs": [
    {
     "name": "stdout",
     "output_type": "stream",
     "text": [
      "Engagement\n",
      "Average Blink Rate\n",
      "Focus Ratio\n",
      "Average Focus Deviation Rate\n",
      "Number of Focused Fixations\n",
      "Mean Focused Fixation Duration\n",
      "Median Focused Fixation Duration\n",
      "Time to First Fixation\n",
      "RFDSD\n",
      "Standard Deviation (X)\n",
      "Standard Deviation (Y)\n",
      "Standard Distance (XY)\n",
      "Number of Saccades\n",
      "Mean Focused Saccade Amplitude\n",
      "Median Focused Saccade Amplitude\n"
     ]
    }
   ],
   "source": [
    "# Read the Column Names\n",
    "for col in Dataframe.columns:\n",
    "    print(col)"
   ]
  },
  {
   "cell_type": "markdown",
   "metadata": {},
   "source": [
    "### Split the Dataframe\n",
    "Here we need to split the dataset into x and y. Y being whether the user is engaged or not engaged. \n"
   ]
  },
  {
   "cell_type": "code",
   "execution_count": 4,
   "metadata": {
    "ExecuteTime": {
     "end_time": "2020-03-29T00:19:09.249185Z",
     "start_time": "2020-03-29T00:19:09.168244Z"
    }
   },
   "outputs": [
    {
     "name": "stdout",
     "output_type": "stream",
     "text": [
      "Y Shape: (30, 1)\n",
      "X Shape: (30, 14)\n"
     ]
    }
   ],
   "source": [
    "Y = pd.DataFrame(Dataframe[\"Engagement\"])\n",
    "X = Dataframe.drop([\"Engagement\"], axis=1)\n",
    "print(\"Y Shape:\", Y.shape)\n",
    "print(\"X Shape:\", X.shape)"
   ]
  },
  {
   "cell_type": "markdown",
   "metadata": {},
   "source": [
    "## Split the Model Into Cross Validation Dataset\n",
    "Will use 70% for training and 30% for testing"
   ]
  },
  {
   "cell_type": "code",
   "execution_count": 5,
   "metadata": {
    "ExecuteTime": {
     "end_time": "2020-03-29T00:23:01.469983Z",
     "start_time": "2020-03-29T00:23:01.163650Z"
    }
   },
   "outputs": [
    {
     "name": "stdout",
     "output_type": "stream",
     "text": [
      "Size of Training Dataset: 21\n",
      "Size of Testing Dataset: 9\n"
     ]
    }
   ],
   "source": [
    "# Import Necessary Package\n",
    "from sklearn.model_selection import train_test_split\n",
    "\n",
    "# Proceed to make the split\n",
    "X_train, X_test, Y_train, Y_test = train_test_split(X,Y, test_size=.3)\n",
    "print(\"Size of Training Dataset:\", len(X_train))\n",
    "print(\"Size of Testing Dataset:\", len(X_test))"
   ]
  },
  {
   "cell_type": "markdown",
   "metadata": {},
   "source": [
    "## Models"
   ]
  },
  {
   "cell_type": "code",
   "execution_count": 17,
   "metadata": {
    "ExecuteTime": {
     "end_time": "2020-03-29T00:55:52.788797Z",
     "start_time": "2020-03-29T00:55:52.578275Z"
    }
   },
   "outputs": [
    {
     "name": "stdout",
     "output_type": "stream",
     "text": [
      "Training Results\n",
      "Accuracy on Training: 0.857\n",
      "Precision on Training: 0.8\n",
      "Recall on Training: 0.889\n",
      "\n",
      "Testing Results\n",
      "Accuracy on Training: 0.444\n",
      "Precision on Training: 0.6\n",
      "Recall on Training: 0.5\n"
     ]
    },
    {
     "name": "stderr",
     "output_type": "stream",
     "text": [
      "/home/franciscoAML/anaconda3/envs/AI/lib/python3.7/site-packages/sklearn/utils/validation.py:760: DataConversionWarning: A column-vector y was passed when a 1d array was expected. Please change the shape of y to (n_samples, ), for example using ravel().\n",
      "  y = column_or_1d(y, warn=True)\n"
     ]
    },
    {
     "data": {
      "text/plain": [
       "<sklearn.metrics._plot.roc_curve.RocCurveDisplay at 0x7fa6460b1710>"
      ]
     },
     "execution_count": 17,
     "metadata": {},
     "output_type": "execute_result"
    },
    {
     "data": {
      "image/png": "[encoded data removed]",
      "text/plain": [
       "<Figure size 432x288 with 1 Axes>"
      ]
     },
     "metadata": {
      "needs_background": "light"
     },
     "output_type": "display_data"
    }
   ],
   "source": [
    "### Linear Support Vector Machine\n",
    "from sklearn import svm\n",
    "\n",
    "## Proceed To Prepare Linear SVM \n",
    "linear_svc = svm.SVC(kernel='linear')\n",
    "linear_svc.fit(X_train, Y_train)\n",
    "\n",
    "## Proceed to Test Performance on the Training Dataset\n",
    "Y_train_predict = linear_svc.predict(X_train)\n",
    "\n",
    "## Proceed to write accuracy\n",
    "train_accuracy = accuracy_score(Y_train,Y_train_predict)\n",
    "train_precision = precision_score(Y_train, Y_train_predict)\n",
    "train_recall = recall_score(Y_train, Y_train_predict)\n",
    "\n",
    "print(\"Training Results\")\n",
    "print(\"Accuracy on Training:\", round(train_accuracy,3))\n",
    "print(\"Precision on Training:\", round(train_precision, 3))\n",
    "print(\"Recall on Training:\", round(train_recall,3))\n",
    "\n",
    "## Proceed to Test on Testing Dataset\n",
    "Y_test_predict = linear_svc.predict(X_test)\n",
    "\n",
    "# Proceed to Calculate Scores\n",
    "test_accuracy = accuracy_score(Y_test,Y_test_predict)\n",
    "test_precision = precision_score(Y_test, Y_test_predict)\n",
    "test_recall = recall_score(Y_test, Y_test_predict)\n",
    "\n",
    "print(\"\\nTesting Results\")\n",
    "print(\"Accuracy on Training:\", round(test_accuracy,3))\n",
    "print(\"Precision on Training:\", round(test_precision, 3))\n",
    "print(\"Recall on Training:\", round(test_recall,3))\n",
    "\n",
    "## Proceed to Graph ROC Curve\n",
    "plot_roc_curve(linear_svc, X_test, Y_test)"
   ]
  },
  {
   "cell_type": "code",
   "execution_count": 18,
   "metadata": {
    "ExecuteTime": {
     "end_time": "2020-03-29T00:57:03.857267Z",
     "start_time": "2020-03-29T00:57:03.704687Z"
    }
   },
   "outputs": [
    {
     "name": "stdout",
     "output_type": "stream",
     "text": [
      "Training Results\n",
      "Accuracy on Training: 0.667\n",
      "Precision on Training: 1.0\n",
      "Recall on Training: 0.222\n",
      "\n",
      "Testing Results\n",
      "Accuracy on Training: 0.556\n",
      "Precision on Training: 1.0\n",
      "Recall on Training: 0.333\n"
     ]
    },
    {
     "name": "stderr",
     "output_type": "stream",
     "text": [
      "/home/franciscoAML/anaconda3/envs/AI/lib/python3.7/site-packages/sklearn/utils/validation.py:760: DataConversionWarning: A column-vector y was passed when a 1d array was expected. Please change the shape of y to (n_samples, ), for example using ravel().\n",
      "  y = column_or_1d(y, warn=True)\n"
     ]
    },
    {
     "data": {
      "text/plain": [
       "<sklearn.metrics._plot.roc_curve.RocCurveDisplay at 0x7fa644802c10>"
      ]
     },
     "execution_count": 18,
     "metadata": {},
     "output_type": "execute_result"
    },
    {
     "data": {
      "image/png": "[encoded data removed]",
      "text/plain": [
       "<Figure size 432x288 with 1 Axes>"
      ]
     },
     "metadata": {
      "needs_background": "light"
     },
     "output_type": "display_data"
    }
   ],
   "source": [
    "### RBF Support Vector Machine\n",
    "from sklearn import svm\n",
    "\n",
    "## Proceed To Prepare Linear SVM \n",
    "rbf_svc = svm.SVC(kernel='rbf')\n",
    "rbf_svc.fit(X_train, Y_train)\n",
    "\n",
    "## Proceed to Test Performance on the Training Dataset\n",
    "Y_train_predict = rbf_svc.predict(X_train)\n",
    "\n",
    "## Proceed to write accuracy\n",
    "train_accuracy = accuracy_score(Y_train,Y_train_predict)\n",
    "train_precision = precision_score(Y_train, Y_train_predict)\n",
    "train_recall = recall_score(Y_train, Y_train_predict)\n",
    "\n",
    "print(\"Training Results\")\n",
    "print(\"Accuracy on Training:\", round(train_accuracy,3))\n",
    "print(\"Precision on Training:\", round(train_precision, 3))\n",
    "print(\"Recall on Training:\", round(train_recall,3))\n",
    "\n",
    "## Proceed to Test on Testing Dataset\n",
    "Y_test_predict = rbf_svc.predict(X_test)\n",
    "\n",
    "# Proceed to Calculate Scores\n",
    "test_accuracy = accuracy_score(Y_test,Y_test_predict)\n",
    "test_precision = precision_score(Y_test, Y_test_predict)\n",
    "test_recall = recall_score(Y_test, Y_test_predict)\n",
    "\n",
    "print(\"\\nTesting Results\")\n",
    "print(\"Accuracy on Training:\", round(test_accuracy,3))\n",
    "print(\"Precision on Training:\", round(test_precision, 3))\n",
    "print(\"Recall on Training:\", round(test_recall,3))\n",
    "\n",
    "## Proceed to Graph ROC Curve\n",
    "plot_roc_curve(rbf_svc, X_test, Y_test)"
   ]
  },
  {
   "cell_type": "code",
   "execution_count": null,
   "metadata": {},
   "outputs": [],
   "source": []
  }
 ],
 "metadata": {
  "kernelspec": {
   "display_name": "Python [conda env:AI] *",
   "language": "python",
   "name": "conda-env-AI-py"
  },
  "language_info": {
   "codemirror_mode": {
    "name": "ipython",
    "version": 3
   },
   "file_extension": ".py",
   "mimetype": "text/x-python",
   "name": "python",
   "nbconvert_exporter": "python",
   "pygments_lexer": "ipython3",
   "version": "3.7.4"
  },
  "toc": {
   "base_numbering": 1,
   "nav_menu": {},
   "number_sections": true,
   "sideBar": true,
   "skip_h1_title": true,
   "title_cell": "Table of Contents",
   "title_sidebar": "Contents",
   "toc_cell": false,
   "toc_position": {
    "height": "calc(100% - 180px)",
    "left": "10px",
    "top": "150px",
    "width": "498.6px"
   },
   "toc_section_display": true,
   "toc_window_display": true
  }
 },
 "nbformat": 4,
 "nbformat_minor": 4
}

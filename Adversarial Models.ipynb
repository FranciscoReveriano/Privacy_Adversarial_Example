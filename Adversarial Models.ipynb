{
 "cells": [
  {
   "cell_type": "markdown",
   "metadata": {},
   "source": [
    "# Adversarial Attacks Against Eye Tracking Data"
   ]
  },
  {
   "cell_type": "code",
   "execution_count": 1,
   "metadata": {
    "ExecuteTime": {
     "end_time": "2020-04-06T18:48:52.680851Z",
     "start_time": "2020-04-06T18:48:52.133696Z"
    }
   },
   "outputs": [],
   "source": [
    "import numpy as np\n",
    "import pandas as pd\n",
    "import sklearn\n",
    "from Reader.Reader import * \n",
    "import matplotlib.pyplot as plt\n",
    "%matplotlib inline\n",
    "from sklearn.metrics import accuracy_score\n",
    "from sklearn.metrics import precision_score\n",
    "from sklearn.metrics import recall_score\n",
    "from sklearn.metrics import plot_roc_curve\n",
    "from sklearn.metrics import roc_auc_score"
   ]
  },
  {
   "cell_type": "markdown",
   "metadata": {
    "ExecuteTime": {
     "end_time": "2020-03-28T23:50:20.494160Z",
     "start_time": "2020-03-28T23:50:20.486853Z"
    }
   },
   "source": [
    "## Base Model\n",
    "The first part is setting up our base model. \n",
    "Here we will try to use different modelts to see whether we can predict if the user is engaged or not engaged to a work of art. "
   ]
  },
  {
   "cell_type": "markdown",
   "metadata": {},
   "source": [
    "### Load Dataframe "
   ]
  },
  {
   "cell_type": "code",
   "execution_count": 2,
   "metadata": {
    "ExecuteTime": {
     "end_time": "2020-04-06T18:48:52.705039Z",
     "start_time": "2020-04-06T18:48:52.682205Z"
    }
   },
   "outputs": [
    {
     "name": "stdout",
     "output_type": "stream",
     "text": [
      "Number of Files: 20\n",
      "(20, 15)\n"
     ]
    }
   ],
   "source": [
    "Eye_Data_Path = \"/home/franciscoAML/Documents/Privacy_Adversarial_Example/Eye_Data\"\n",
    "columns = ['Average Blink Rate','Focus Ratio', 'Average Focus Deviation Rate', 'Number of Focused Fixations', 'Mean Focused Fixation Duration',\n",
    "                                    'Median Focused Fixation Duration', 'Time to First Fixation', 'RFDSD', 'Standard Deviation (X)', 'Standard Deviation (Y)',\n",
    "                                    'Standard Distance (XY)', 'Number of Saccades', 'Mean Focused Saccade Amplitude', 'Median Focused Saccade Amplitude']\n",
    "Dataframe = Reader(Eye_Data_Path).load_file()\n",
    "print(Dataframe.shape)"
   ]
  },
  {
   "cell_type": "code",
   "execution_count": 3,
   "metadata": {
    "ExecuteTime": {
     "end_time": "2020-04-06T18:48:52.785372Z",
     "start_time": "2020-04-06T18:48:52.706627Z"
    }
   },
   "outputs": [
    {
     "name": "stdout",
     "output_type": "stream",
     "text": [
      "Engagement\n",
      "Average Blink Rate\n",
      "Focus Ratio\n",
      "Average Focus Deviation Rate\n",
      "Number of Focused Fixations\n",
      "Mean Focused Fixation Duration\n",
      "Median Focused Fixation Duration\n",
      "Time to First Fixation\n",
      "RFDSD\n",
      "Standard Deviation (X)\n",
      "Standard Deviation (Y)\n",
      "Standard Distance (XY)\n",
      "Number of Saccades\n",
      "Mean Focused Saccade Amplitude\n",
      "Median Focused Saccade Amplitude\n"
     ]
    }
   ],
   "source": [
    "# Read the Column Names\n",
    "for col in Dataframe.columns:\n",
    "    print(col)"
   ]
  },
  {
   "cell_type": "markdown",
   "metadata": {},
   "source": [
    "### Split the Dataframe\n",
    "Here we need to split the dataset into x and y. Y being whether the user is engaged or not engaged. \n"
   ]
  },
  {
   "cell_type": "code",
   "execution_count": 4,
   "metadata": {
    "ExecuteTime": {
     "end_time": "2020-04-06T18:48:52.866272Z",
     "start_time": "2020-04-06T18:48:52.788518Z"
    }
   },
   "outputs": [
    {
     "name": "stdout",
     "output_type": "stream",
     "text": [
      "Y Shape: (20, 1)\n",
      "X Shape: (20, 14)\n"
     ]
    }
   ],
   "source": [
    "Y = pd.DataFrame(Dataframe[\"Engagement\"])\n",
    "X = Dataframe.drop([\"Engagement\"], axis=1)\n",
    "print(\"Y Shape:\", Y.shape)\n",
    "print(\"X Shape:\", X.shape)"
   ]
  },
  {
   "cell_type": "markdown",
   "metadata": {},
   "source": [
    "## Split the Model Into Cross Validation Dataset\n",
    "Will use 70% for training and 30% for testing"
   ]
  },
  {
   "cell_type": "code",
   "execution_count": 5,
   "metadata": {
    "ExecuteTime": {
     "end_time": "2020-04-06T18:48:52.951119Z",
     "start_time": "2020-04-06T18:48:52.869018Z"
    }
   },
   "outputs": [
    {
     "name": "stdout",
     "output_type": "stream",
     "text": [
      "Size of Training Dataset: 12\n",
      "Size of Testing Dataset: 8\n"
     ]
    }
   ],
   "source": [
    "# Import Necessary Package\n",
    "from sklearn.model_selection import train_test_split\n",
    "\n",
    "# Proceed to make the split\n",
    "X_train, X_test, Y_train, Y_test = train_test_split(X,Y, test_size=.4)\n",
    "print(\"Size of Training Dataset:\", len(X_train))\n",
    "print(\"Size of Testing Dataset:\", len(X_test))"
   ]
  },
  {
   "cell_type": "markdown",
   "metadata": {},
   "source": [
    "## Models"
   ]
  },
  {
   "cell_type": "markdown",
   "metadata": {},
   "source": [
    "### Training/Testing on Naive Bayes"
   ]
  },
  {
   "cell_type": "code",
   "execution_count": 6,
   "metadata": {
    "ExecuteTime": {
     "end_time": "2020-04-06T18:48:53.198425Z",
     "start_time": "2020-04-06T18:48:52.953680Z"
    }
   },
   "outputs": [
    {
     "name": "stdout",
     "output_type": "stream",
     "text": [
      "Training Results\n",
      "Accuracy on Training: 1.0\n",
      "Precision on Training: 1.0\n",
      "Recall on Training: 1.0\n",
      "AUC on Training: 1.0\n",
      "\n",
      "Testing Results\n",
      "Accuracy on Testing: 0.75\n",
      "Precision on Testing: 0.667\n",
      "Recall on Testing: 1.0\n",
      "AUC on Testing: 0.75\n"
     ]
    },
    {
     "name": "stderr",
     "output_type": "stream",
     "text": [
      "/home/franciscoAML/anaconda3/envs/AI/lib/python3.7/site-packages/sklearn/naive_bayes.py:206: DataConversionWarning: A column-vector y was passed when a 1d array was expected. Please change the shape of y to (n_samples, ), for example using ravel().\n",
      "  y = column_or_1d(y, warn=True)\n"
     ]
    },
    {
     "data": {
      "text/plain": [
       "<sklearn.metrics._plot.roc_curve.RocCurveDisplay at 0x7fe36b65a590>"
      ]
     },
     "execution_count": 6,
     "metadata": {},
     "output_type": "execute_result"
    },
    {
     "data": {
      "image/png": "[encoded data removed]",
      "text/plain": [
       "<Figure size 432x288 with 1 Axes>"
      ]
     },
     "metadata": {
      "needs_background": "light"
     },
     "output_type": "display_data"
    }
   ],
   "source": [
    "### Linear Support Vector Machine\n",
    "from sklearn.naive_bayes import GaussianNB\n",
    "\n",
    "## Proceed To Prepare Linear SVM \n",
    "linear_svc = GaussianNB()\n",
    "linear_svc.fit(X_train, Y_train)\n",
    "\n",
    "## Proceed to Test Performance on the Training Dataset\n",
    "Y_train_predict = linear_svc.predict(X_train)\n",
    "\n",
    "## Proceed to write accuracy\n",
    "train_accuracy = accuracy_score(Y_train,Y_train_predict)\n",
    "train_precision = precision_score(Y_train, Y_train_predict)\n",
    "train_recall = recall_score(Y_train, Y_train_predict)\n",
    "train_auc = roc_auc_score(Y_train, Y_train_predict)\n",
    "\n",
    "print(\"Training Results\")\n",
    "print(\"Accuracy on Training:\", round(train_accuracy,3))\n",
    "print(\"Precision on Training:\", round(train_precision, 3))\n",
    "print(\"Recall on Training:\", round(train_recall,3))\n",
    "print(\"AUC on Training:\", round(train_auc,3))\n",
    "\n",
    "## Proceed to Test on Testing Dataset\n",
    "Y_test_predict = linear_svc.predict(X_test)\n",
    "\n",
    "# Proceed to Calculate Scores\n",
    "test_accuracy = accuracy_score(Y_test,Y_test_predict)\n",
    "test_precision = precision_score(Y_test, Y_test_predict)\n",
    "test_recall = recall_score(Y_test, Y_test_predict)\n",
    "test_auc = roc_auc_score(Y_test, Y_test_predict)\n",
    "\n",
    "print(\"\\nTesting Results\")\n",
    "print(\"Accuracy on Testing:\", round(test_accuracy,3))\n",
    "print(\"Precision on Testing:\", round(test_precision, 3))\n",
    "print(\"Recall on Testing:\", round(test_recall,3))\n",
    "print(\"AUC on Testing:\", round(test_auc,3))\n",
    "\n",
    "# Save Values\n",
    "original_naive_bayes_test_accuracy = test_accuracy\n",
    "original_naive_bayes_test_precision = test_precision \n",
    "original_naive_bayes_test_recall = test_recall\n",
    "original_naive_bayes_test_auc = test_auc\n",
    "\n",
    "\n",
    "## Proceed to Graph ROC Curve\n",
    "plot_roc_curve(linear_svc, X_test, Y_test)"
   ]
  },
  {
   "cell_type": "markdown",
   "metadata": {},
   "source": [
    "### Training/Testing Linear SVM"
   ]
  },
  {
   "cell_type": "code",
   "execution_count": 7,
   "metadata": {
    "ExecuteTime": {
     "end_time": "2020-04-06T18:48:53.365163Z",
     "start_time": "2020-04-06T18:48:53.200648Z"
    }
   },
   "outputs": [
    {
     "name": "stderr",
     "output_type": "stream",
     "text": [
      "/home/franciscoAML/anaconda3/envs/AI/lib/python3.7/site-packages/sklearn/utils/validation.py:760: DataConversionWarning: A column-vector y was passed when a 1d array was expected. Please change the shape of y to (n_samples, ), for example using ravel().\n",
      "  y = column_or_1d(y, warn=True)\n"
     ]
    },
    {
     "name": "stdout",
     "output_type": "stream",
     "text": [
      "Training Results\n",
      "Accuracy on Training: 1.0\n",
      "Precision on Training: 1.0\n",
      "Recall on Training: 1.0\n",
      "AUC on Training: 1.0\n",
      "\n",
      "Testing Results\n",
      "Accuracy on Testing: 0.875\n",
      "Precision on Testing: 1.0\n",
      "Recall on Testing: 0.75\n",
      "AUC on Testing: 0.875\n"
     ]
    },
    {
     "data": {
      "text/plain": [
       "<sklearn.metrics._plot.roc_curve.RocCurveDisplay at 0x7fe36adf7510>"
      ]
     },
     "execution_count": 7,
     "metadata": {},
     "output_type": "execute_result"
    },
    {
     "data": {
      "image/png": "[encoded data removed]",
      "text/plain": [
       "<Figure size 432x288 with 1 Axes>"
      ]
     },
     "metadata": {
      "needs_background": "light"
     },
     "output_type": "display_data"
    }
   ],
   "source": [
    "### Linear Support Vector Machine\n",
    "from sklearn import svm\n",
    "\n",
    "## Proceed To Prepare Linear SVM \n",
    "linear_svc = svm.SVC(kernel='linear')\n",
    "linear_svc.fit(X_train, Y_train)\n",
    "\n",
    "## Proceed to Test Performance on the Training Dataset\n",
    "Y_train_predict = linear_svc.predict(X_train)\n",
    "\n",
    "## Proceed to write accuracy\n",
    "train_accuracy = accuracy_score(Y_train,Y_train_predict)\n",
    "train_precision = precision_score(Y_train, Y_train_predict)\n",
    "train_recall = recall_score(Y_train, Y_train_predict)\n",
    "train_auc = roc_auc_score(Y_train, Y_train_predict)\n",
    "\n",
    "print(\"Training Results\")\n",
    "print(\"Accuracy on Training:\", round(train_accuracy,3))\n",
    "print(\"Precision on Training:\", round(train_precision, 3))\n",
    "print(\"Recall on Training:\", round(train_recall,3))\n",
    "print(\"AUC on Training:\", round(train_auc,3))\n",
    "\n",
    "## Proceed to Test on Testing Dataset\n",
    "Y_test_predict = linear_svc.predict(X_test)\n",
    "\n",
    "# Proceed to Calculate Scores\n",
    "test_accuracy = accuracy_score(Y_test,Y_test_predict)\n",
    "test_precision = precision_score(Y_test, Y_test_predict)\n",
    "test_recall = recall_score(Y_test, Y_test_predict)\n",
    "test_auc = roc_auc_score(Y_test, Y_test_predict)\n",
    "\n",
    "print(\"\\nTesting Results\")\n",
    "print(\"Accuracy on Testing:\", round(test_accuracy,3))\n",
    "print(\"Precision on Testing:\", round(test_precision, 3))\n",
    "print(\"Recall on Testing:\", round(test_recall,3))\n",
    "print(\"AUC on Testing:\", round(test_auc,3))\n",
    "\n",
    "# Save Values\n",
    "original_linear_svm_test_accuracy = test_accuracy \n",
    "original_linear_svm_test_precision = test_precision\n",
    "original_linear_svm_test_recall = test_recall\n",
    "original_linear_svm_test_auc = test_auc\n",
    "\n",
    "## Proceed to Graph ROC Curve\n",
    "plot_roc_curve(linear_svc, X_test, Y_test)"
   ]
  },
  {
   "cell_type": "markdown",
   "metadata": {},
   "source": [
    "### Training/Testing NonLinear SVM"
   ]
  },
  {
   "cell_type": "code",
   "execution_count": 8,
   "metadata": {
    "ExecuteTime": {
     "end_time": "2020-04-06T18:48:53.515812Z",
     "start_time": "2020-04-06T18:48:53.367472Z"
    }
   },
   "outputs": [
    {
     "name": "stdout",
     "output_type": "stream",
     "text": [
      "Training Results\n",
      "Accuracy on Training: 0.583\n",
      "Precision on Training: 1.0\n",
      "Recall on Training: 0.167\n",
      "AUC on Training: 0.583\n",
      "\n",
      "Testing Results\n",
      "Accuracy on Testing: 0.875\n",
      "Precision on Testing: 1.0\n",
      "Recall on Testing: 0.75\n",
      "AUC on Testing: 0.875\n"
     ]
    },
    {
     "name": "stderr",
     "output_type": "stream",
     "text": [
      "/home/franciscoAML/anaconda3/envs/AI/lib/python3.7/site-packages/sklearn/utils/validation.py:760: DataConversionWarning: A column-vector y was passed when a 1d array was expected. Please change the shape of y to (n_samples, ), for example using ravel().\n",
      "  y = column_or_1d(y, warn=True)\n"
     ]
    },
    {
     "data": {
      "text/plain": [
       "<sklearn.metrics._plot.roc_curve.RocCurveDisplay at 0x7fe36ad8cfd0>"
      ]
     },
     "execution_count": 8,
     "metadata": {},
     "output_type": "execute_result"
    },
    {
     "data": {
      "image/png": "[encoded data removed]",
      "text/plain": [
       "<Figure size 432x288 with 1 Axes>"
      ]
     },
     "metadata": {
      "needs_background": "light"
     },
     "output_type": "display_data"
    }
   ],
   "source": [
    "### RBF Support Vector Machine\n",
    "from sklearn import svm\n",
    "\n",
    "## Proceed To Prepare Linear SVM \n",
    "rbf_svc = svm.SVC(kernel='rbf')\n",
    "rbf_svc.fit(X_train, Y_train)\n",
    "\n",
    "## Proceed to Test Performance on the Training Dataset\n",
    "Y_train_predict = rbf_svc.predict(X_train)\n",
    "\n",
    "## Proceed to write accuracy\n",
    "train_accuracy = accuracy_score(Y_train,Y_train_predict)\n",
    "train_precision = precision_score(Y_train, Y_train_predict)\n",
    "train_recall = recall_score(Y_train, Y_train_predict)\n",
    "train_auc = roc_auc_score(Y_train, Y_train_predict)\n",
    "\n",
    "print(\"Training Results\")\n",
    "print(\"Accuracy on Training:\", round(train_accuracy,3))\n",
    "print(\"Precision on Training:\", round(train_precision, 3))\n",
    "print(\"Recall on Training:\", round(train_recall,3))\n",
    "print(\"AUC on Training:\", round(train_auc,3))\n",
    "\n",
    "## Proceed to Test on Testing Dataset\n",
    "Y_test_predict = linear_svc.predict(X_test)\n",
    "\n",
    "# Proceed to Calculate Scores\n",
    "test_accuracy = accuracy_score(Y_test,Y_test_predict)\n",
    "test_precision = precision_score(Y_test, Y_test_predict)\n",
    "test_recall = recall_score(Y_test, Y_test_predict)\n",
    "test_auc = roc_auc_score(Y_test, Y_test_predict)\n",
    "\n",
    "print(\"\\nTesting Results\")\n",
    "print(\"Accuracy on Testing:\", round(test_accuracy,3))\n",
    "print(\"Precision on Testing:\", round(test_precision, 3))\n",
    "print(\"Recall on Testing:\", round(test_recall,3))\n",
    "print(\"AUC on Testing:\", round(test_auc,3))\n",
    "\n",
    "# Save Values\n",
    "original_nonlinear_svm_test_accuracy = test_accuracy \n",
    "original_nonlinear_svm_test_precision = test_precision\n",
    "original_nonlinear_svm_test_recall = test_recall\n",
    "original_nonlinear_svm_test_auc = test_auc\n",
    "\n",
    "## Proceed to Graph ROC Curve\n",
    "plot_roc_curve(linear_svc, X_test, Y_test)"
   ]
  },
  {
   "cell_type": "markdown",
   "metadata": {},
   "source": [
    "## Adding Guassian Notes On Inputs\n"
   ]
  },
  {
   "cell_type": "markdown",
   "metadata": {},
   "source": [
    "### Calculate STD\n",
    "\n",
    "We need to get the Standard Deviation (STD) to be able to sample the correct gaussian distribution to add noise to the inputs of the model. "
   ]
  },
  {
   "cell_type": "code",
   "execution_count": 9,
   "metadata": {
    "ExecuteTime": {
     "end_time": "2020-04-06T18:48:53.534679Z",
     "start_time": "2020-04-06T18:48:53.516932Z"
    }
   },
   "outputs": [
    {
     "name": "stdout",
     "output_type": "stream",
     "text": [
      "Engagement : 0.5\n",
      "Average Blink Rate : 7.505\n",
      "Focus Ratio : 0.136\n",
      "Average Focus Deviation Rate : 19.097\n",
      "Number of Focused Fixations : 42.52\n",
      "Mean Focused Fixation Duration : 87.33\n",
      "Median Focused Fixation Duration : 25.705\n",
      "Time to First Fixation : 337.493\n",
      "RFDSD : 8.585\n",
      "Standard Deviation (X) : 0.079\n",
      "Standard Deviation (Y) : 0.04\n",
      "Standard Distance (XY) : 0.083\n",
      "Number of Saccades : 42.52\n",
      "Mean Focused Saccade Amplitude : 0.036\n",
      "Median Focused Saccade Amplitude : 0.05\n"
     ]
    }
   ],
   "source": [
    "# Declare Dictionary\n",
    "Dict = {}\n",
    "\n",
    "# Populate Dictionary With the STD \n",
    "for column in Dataframe: \n",
    "    column_list = []\n",
    "    column_list.append(np.mean(Dataframe[column]))\n",
    "    column_list.append(np.std(Dataframe[column]))\n",
    "    Dict[column] = column_list\n",
    "    print(column,\":\", round(np.std(Dataframe[column]),3))\n"
   ]
  },
  {
   "cell_type": "markdown",
   "metadata": {},
   "source": [
    "### Random Sample Noise"
   ]
  },
  {
   "cell_type": "markdown",
   "metadata": {
    "ExecuteTime": {
     "end_time": "2020-04-01T16:34:07.533916Z",
     "start_time": "2020-04-01T16:34:07.530413Z"
    }
   },
   "source": [
    "### Make Copy of Dataframes\n",
    "\n",
    "We are making a copy of the datasets in order to preserve integrity of the dataset. "
   ]
  },
  {
   "cell_type": "code",
   "execution_count": 10,
   "metadata": {
    "ExecuteTime": {
     "end_time": "2020-04-06T18:48:53.607092Z",
     "start_time": "2020-04-06T18:48:53.535975Z"
    }
   },
   "outputs": [],
   "source": [
    "# We are making a copy of the original dataframes to add noise to\n",
    "\n",
    "noise_y = Y.copy()\n",
    "noise_x = X.copy()"
   ]
  },
  {
   "cell_type": "markdown",
   "metadata": {},
   "source": [
    "### Loop Through and Add Noise\n",
    "\n",
    "We are only adding noise to the X Dataframe which contains the Feature Matrix. \n",
    "We are not altering the Y Dataframe in any shape or form. "
   ]
  },
  {
   "cell_type": "code",
   "execution_count": 11,
   "metadata": {
    "ExecuteTime": {
     "end_time": "2020-04-06T18:48:53.676450Z",
     "start_time": "2020-04-06T18:48:53.608867Z"
    }
   },
   "outputs": [],
   "source": [
    "## We proceed to add noise to all x-variables \n",
    "noise_mean = 0\n",
    "size_of_noise = 0.1\n",
    "       \n",
    "# Convert Panda Dataframe to Numpy Array\n",
    "noise_x = noise_x.to_numpy()\n",
    "\n",
    "# Loop Through and Add Noise\n",
    "for i in range(len(noise_x)):\n",
    "    for j in range(len(noise_x[i])):\n",
    "        noise = np.random.uniform(noise_mean, size_of_noise)\n",
    "        noise_x[i][j] = noise_x[i][j] + noise\n",
    "        \n",
    "# Convert Numpy Array Back to Panda Dataframe\n",
    "noise_x = pd.DataFrame(noise_x)\n",
    "noise_x.columns = columns"
   ]
  },
  {
   "cell_type": "markdown",
   "metadata": {},
   "source": [
    "### Calculate Noise Differences"
   ]
  },
  {
   "cell_type": "code",
   "execution_count": 12,
   "metadata": {
    "ExecuteTime": {
     "end_time": "2020-04-06T18:48:53.774278Z",
     "start_time": "2020-04-06T18:48:53.678180Z"
    }
   },
   "outputs": [
    {
     "name": "stdout",
     "output_type": "stream",
     "text": [
      "L2 Distance X: 0.0036001237541165207\n",
      "L2 Dstaince Y: 0.0\n"
     ]
    }
   ],
   "source": [
    "# Calculate the L2 Distance\n",
    "from sklearn.metrics import mean_squared_error\n",
    "L2_X = mean_squared_error(X,noise_x)\n",
    "L2_Y = mean_squared_error(Y,noise_y)\n",
    "\n",
    "print(\"L2 Distance X:\", L2_X)\n",
    "print(\"L2 Dstaince Y:\", L2_Y)"
   ]
  },
  {
   "cell_type": "markdown",
   "metadata": {
    "ExecuteTime": {
     "end_time": "2020-04-01T19:07:18.215003Z",
     "start_time": "2020-04-01T19:07:18.210113Z"
    }
   },
   "source": [
    "## Test Models "
   ]
  },
  {
   "cell_type": "markdown",
   "metadata": {},
   "source": [
    "### Splitting the Dataset"
   ]
  },
  {
   "cell_type": "code",
   "execution_count": 13,
   "metadata": {
    "ExecuteTime": {
     "end_time": "2020-04-06T18:48:53.870867Z",
     "start_time": "2020-04-06T18:48:53.776345Z"
    }
   },
   "outputs": [
    {
     "name": "stdout",
     "output_type": "stream",
     "text": [
      "Size of Training Dataset: 12\n",
      "Size of Testing Dataset: 8\n"
     ]
    }
   ],
   "source": [
    "# Proceed to make the split\n",
    "X_train, X_test, Y_train, Y_test = train_test_split(noise_x,noise_y, test_size=.4)\n",
    "print(\"Size of Training Dataset:\", len(X_train))\n",
    "print(\"Size of Testing Dataset:\", len(X_test))"
   ]
  },
  {
   "cell_type": "markdown",
   "metadata": {},
   "source": [
    "### Training/Test Naive Bayes Model"
   ]
  },
  {
   "cell_type": "code",
   "execution_count": 14,
   "metadata": {
    "ExecuteTime": {
     "end_time": "2020-04-06T18:48:54.098754Z",
     "start_time": "2020-04-06T18:48:53.873653Z"
    }
   },
   "outputs": [
    {
     "name": "stdout",
     "output_type": "stream",
     "text": [
      "Training Results\n",
      "Accuracy on Training: 1.0\n",
      "Precision on Training: 1.0\n",
      "Recall on Training: 1.0\n",
      "AUC on Training: 1.0\n",
      "\n",
      "Testing Results\n",
      "Accuracy on Testing: 0.875\n",
      "Precision on Testing: 1.0\n",
      "Recall on Testing: 0.75\n",
      "AUC on Testing: 0.875\n"
     ]
    },
    {
     "name": "stderr",
     "output_type": "stream",
     "text": [
      "/home/franciscoAML/anaconda3/envs/AI/lib/python3.7/site-packages/sklearn/naive_bayes.py:206: DataConversionWarning: A column-vector y was passed when a 1d array was expected. Please change the shape of y to (n_samples, ), for example using ravel().\n",
      "  y = column_or_1d(y, warn=True)\n"
     ]
    },
    {
     "data": {
      "image/png": "[encoded data removed]",
      "text/plain": [
       "<Figure size 432x288 with 1 Axes>"
      ]
     },
     "metadata": {
      "needs_background": "light"
     },
     "output_type": "display_data"
    }
   ],
   "source": [
    "from Models.Naive_Bayes import * \n",
    "\n",
    "Naive_Bayes_Model(X_train, Y_train, X_test, Y_test)"
   ]
  },
  {
   "cell_type": "markdown",
   "metadata": {
    "ExecuteTime": {
     "end_time": "2020-04-01T19:13:56.537108Z",
     "start_time": "2020-04-01T19:13:56.533573Z"
    }
   },
   "source": [
    "### Training/Testing Linear SVM "
   ]
  },
  {
   "cell_type": "code",
   "execution_count": 15,
   "metadata": {
    "ExecuteTime": {
     "end_time": "2020-04-06T18:48:54.232871Z",
     "start_time": "2020-04-06T18:48:54.099955Z"
    }
   },
   "outputs": [
    {
     "name": "stderr",
     "output_type": "stream",
     "text": [
      "/home/franciscoAML/anaconda3/envs/AI/lib/python3.7/site-packages/sklearn/utils/validation.py:760: DataConversionWarning: A column-vector y was passed when a 1d array was expected. Please change the shape of y to (n_samples, ), for example using ravel().\n",
      "  y = column_or_1d(y, warn=True)\n"
     ]
    },
    {
     "name": "stdout",
     "output_type": "stream",
     "text": [
      "Training Results\n",
      "Accuracy on Training: 1.0\n",
      "Precision on Training: 1.0\n",
      "Recall on Training: 1.0\n",
      "AUC on Training: 1.0\n",
      "\n",
      "Testing Results\n",
      "Accuracy on Testing: 0.625\n",
      "Precision on Testing: 0.667\n",
      "Recall on Testing: 0.5\n",
      "AUC on Testing: 0.625\n"
     ]
    },
    {
     "data": {
      "image/png": "[encoded data removed]",
      "text/plain": [
       "<Figure size 432x288 with 1 Axes>"
      ]
     },
     "metadata": {
      "needs_background": "light"
     },
     "output_type": "display_data"
    }
   ],
   "source": [
    "from Models.Linear_SVM import * \n",
    "\n",
    "Linear_SVM_Model(X_train, Y_train, X_test, Y_test)"
   ]
  },
  {
   "cell_type": "markdown",
   "metadata": {},
   "source": [
    "### Training/Testing NonLinear SVM"
   ]
  },
  {
   "cell_type": "code",
   "execution_count": 16,
   "metadata": {
    "ExecuteTime": {
     "end_time": "2020-04-06T18:48:54.365546Z",
     "start_time": "2020-04-06T18:48:54.234033Z"
    }
   },
   "outputs": [
    {
     "name": "stderr",
     "output_type": "stream",
     "text": [
      "/home/franciscoAML/anaconda3/envs/AI/lib/python3.7/site-packages/sklearn/utils/validation.py:760: DataConversionWarning: A column-vector y was passed when a 1d array was expected. Please change the shape of y to (n_samples, ), for example using ravel().\n",
      "  y = column_or_1d(y, warn=True)\n"
     ]
    },
    {
     "name": "stdout",
     "output_type": "stream",
     "text": [
      "Training Results\n",
      "Accuracy on Training: 0.667\n",
      "Precision on Training: 1.0\n",
      "Recall on Training: 0.333\n",
      "AUC on Training: 0.667\n",
      "\n",
      "Testing Results\n",
      "Accuracy on Testing: 0.625\n",
      "Precision on Testing: 1.0\n",
      "Recall on Testing: 0.25\n",
      "AUC on Testing: 0.625\n"
     ]
    },
    {
     "data": {
      "image/png": "[encoded data removed]",
      "text/plain": [
       "<Figure size 432x288 with 1 Axes>"
      ]
     },
     "metadata": {
      "needs_background": "light"
     },
     "output_type": "display_data"
    }
   ],
   "source": [
    "from Models.NonLinear_SVM import * \n",
    "\n",
    "NonLinear_Model(X_train, Y_train, X_test, Y_test)"
   ]
  },
  {
   "cell_type": "markdown",
   "metadata": {},
   "source": [
    "## Compare Results "
   ]
  },
  {
   "cell_type": "code",
   "execution_count": 17,
   "metadata": {
    "ExecuteTime": {
     "end_time": "2020-04-06T18:48:54.380242Z",
     "start_time": "2020-04-06T18:48:54.366729Z"
    }
   },
   "outputs": [
    {
     "data": {
      "text/html": [
       "<div>\n",
       "<style scoped>\n",
       "    .dataframe tbody tr th:only-of-type {\n",
       "        vertical-align: middle;\n",
       "    }\n",
       "\n",
       "    .dataframe tbody tr th {\n",
       "        vertical-align: top;\n",
       "    }\n",
       "\n",
       "    .dataframe thead th {\n",
       "        text-align: right;\n",
       "    }\n",
       "</style>\n",
       "<table border=\"1\" class=\"dataframe\">\n",
       "  <thead>\n",
       "    <tr style=\"text-align: right;\">\n",
       "      <th></th>\n",
       "      <th>Accuracy</th>\n",
       "      <th>Precision</th>\n",
       "      <th>Recall</th>\n",
       "      <th>AUC</th>\n",
       "    </tr>\n",
       "  </thead>\n",
       "  <tbody>\n",
       "    <tr>\n",
       "      <th>Naive-Bayes</th>\n",
       "      <td>0.750</td>\n",
       "      <td>0.666667</td>\n",
       "      <td>1.00</td>\n",
       "      <td>0.750</td>\n",
       "    </tr>\n",
       "    <tr>\n",
       "      <th>Linear SVM</th>\n",
       "      <td>0.875</td>\n",
       "      <td>1.000000</td>\n",
       "      <td>0.75</td>\n",
       "      <td>0.875</td>\n",
       "    </tr>\n",
       "    <tr>\n",
       "      <th>Non-Linear SVM</th>\n",
       "      <td>0.875</td>\n",
       "      <td>1.000000</td>\n",
       "      <td>0.75</td>\n",
       "      <td>0.875</td>\n",
       "    </tr>\n",
       "  </tbody>\n",
       "</table>\n",
       "</div>"
      ],
      "text/plain": [
       "                Accuracy  Precision  Recall    AUC\n",
       "Naive-Bayes        0.750   0.666667    1.00  0.750\n",
       "Linear SVM         0.875   1.000000    0.75  0.875\n",
       "Non-Linear SVM     0.875   1.000000    0.75  0.875"
      ]
     },
     "execution_count": 17,
     "metadata": {},
     "output_type": "execute_result"
    }
   ],
   "source": [
    "# Original Training Results \n",
    "data = {\"Naive-Bayes\":    [original_naive_bayes_test_accuracy, original_naive_bayes_test_precision, \n",
    "                            original_naive_bayes_test_recall, original_naive_bayes_test_auc],\n",
    "        \"Linear SVM\":    [original_linear_svm_test_accuracy, original_linear_svm_test_precision, \n",
    "                            original_linear_svm_test_recall, original_linear_svm_test_auc],\n",
    "        \"Non-Linear SVM\":[original_nonlinear_svm_test_accuracy, original_nonlinear_svm_test_precision, \n",
    "                            original_nonlinear_svm_test_recall, original_nonlinear_svm_test_auc]}\n",
    "\n",
    "columns = [\"Accuracy\", \"Precision\", \"Recall\", \"AUC\"]\n",
    "\n",
    "# Make Dataframe\n",
    "df = pd.DataFrame(data).T\n",
    "df.columns = columns\n",
    "df"
   ]
  },
  {
   "cell_type": "markdown",
   "metadata": {
    "ExecuteTime": {
     "end_time": "2020-04-06T18:20:20.494261Z",
     "start_time": "2020-04-06T18:20:20.490188Z"
    }
   },
   "source": [
    "### Naive Bayes Noise Simulation"
   ]
  },
  {
   "cell_type": "code",
   "execution_count": 31,
   "metadata": {
    "ExecuteTime": {
     "end_time": "2020-04-06T18:59:26.561109Z",
     "start_time": "2020-04-06T18:59:26.487831Z"
    }
   },
   "outputs": [
    {
     "name": "stderr",
     "output_type": "stream",
     "text": [
      "/home/franciscoAML/anaconda3/envs/AI/lib/python3.7/site-packages/sklearn/naive_bayes.py:206: DataConversionWarning: A column-vector y was passed when a 1d array was expected. Please change the shape of y to (n_samples, ), for example using ravel().\n",
      "  y = column_or_1d(y, warn=True)\n",
      "/home/franciscoAML/anaconda3/envs/AI/lib/python3.7/site-packages/sklearn/naive_bayes.py:206: DataConversionWarning: A column-vector y was passed when a 1d array was expected. Please change the shape of y to (n_samples, ), for example using ravel().\n",
      "  y = column_or_1d(y, warn=True)\n",
      "/home/franciscoAML/anaconda3/envs/AI/lib/python3.7/site-packages/sklearn/naive_bayes.py:206: DataConversionWarning: A column-vector y was passed when a 1d array was expected. Please change the shape of y to (n_samples, ), for example using ravel().\n",
      "  y = column_or_1d(y, warn=True)\n",
      "/home/franciscoAML/anaconda3/envs/AI/lib/python3.7/site-packages/sklearn/naive_bayes.py:206: DataConversionWarning: A column-vector y was passed when a 1d array was expected. Please change the shape of y to (n_samples, ), for example using ravel().\n",
      "  y = column_or_1d(y, warn=True)\n",
      "/home/franciscoAML/anaconda3/envs/AI/lib/python3.7/site-packages/sklearn/naive_bayes.py:206: DataConversionWarning: A column-vector y was passed when a 1d array was expected. Please change the shape of y to (n_samples, ), for example using ravel().\n",
      "  y = column_or_1d(y, warn=True)\n"
     ]
    }
   ],
   "source": [
    "from util.util import * \n",
    "\n",
    "columns = ['Average Blink Rate','Focus Ratio', 'Average Focus Deviation Rate', 'Number of Focused Fixations', 'Mean Focused Fixation Duration',\n",
    "                                    'Median Focused Fixation Duration', 'Time to First Fixation', 'RFDSD', 'Standard Deviation (X)', 'Standard Deviation (Y)',\n",
    "                                    'Standard Distance (XY)', 'Number of Saccades', 'Mean Focused Saccade Amplitude', 'Median Focused Saccade Amplitude']\n",
    "\n",
    "# Make the Split To Add Noise To The Training Dataset\n",
    "X_train, X_test, Y_train, Y_test = train_test_split(X, Y, test_size=.4)\n",
    "\n",
    "noise_list = np.arange(0, 0.5, 0.1)\n",
    "\n",
    "# Variable List\n",
    "Naive_L2_Difference_List = []\n",
    "Naive_Accuracy_List = []\n",
    "Naive_Precision_List = []\n",
    "Naive_Recall_List = []\n",
    "Naive_AUC_List = []\n",
    "\n",
    "for noise in noise_list:\n",
    "    # Copy Dataframes\n",
    "    Noise_X_train = X_train.copy()\n",
    "\n",
    "    # Loop Through and Add Noise\n",
    "    noise_mean = 0\n",
    "\n",
    "    # Convert Panda Dataframe to Numpy Array\n",
    "    Noise_X_train = Noise_X_train\n",
    "    Noise_X_train = add_noise(Noise_X_train, noise_mean, noise)\n",
    "    \n",
    "    # Convert Numpy Array Back to Dataframe\n",
    "    Noise_X_train = pd.DataFrame(Noise_X_train)\n",
    "    Noise_X_train.columns = columns\n",
    "    \n",
    "    # Compare the Results\n",
    "    L2_X = mean_squared_error(X_train, Noise_X_train)\n",
    "    \n",
    "    # Call Model\n",
    "    Naive_Accuracy, Naive_Precision, Naive_Recall, Naive_AUC = Return_Naive_Bayes_Model(Noise_X_train,Y_train,X_test,Y_test)\n",
    "    \n",
    "    # Append Results\n",
    "    Naive_L2_Difference_List.append(L2_X)\n",
    "    Naive_Accuracy_List.append(Naive_Accuracy)\n",
    "    Naive_Precision_List.append(Naive_Precision)\n",
    "    Naive_Recall_List.append(Naive_Recall)\n",
    "    Naive_AUC_List.append(Naive_AUC)"
   ]
  },
  {
   "cell_type": "code",
   "execution_count": 32,
   "metadata": {
    "ExecuteTime": {
     "end_time": "2020-04-06T18:59:28.591970Z",
     "start_time": "2020-04-06T18:59:27.993174Z"
    }
   },
   "outputs": [
    {
     "data": {
      "image/png": "[encoded data removed]",
      "text/plain": [
       "<Figure size 432x288 with 1 Axes>"
      ]
     },
     "metadata": {
      "needs_background": "light"
     },
     "output_type": "display_data"
    },
    {
     "data": {
      "image/png": "[encoded data removed]",
      "text/plain": [
       "<Figure size 432x288 with 1 Axes>"
      ]
     },
     "metadata": {
      "needs_background": "light"
     },
     "output_type": "display_data"
    },
    {
     "data": {
      "image/png": "[encoded data removed]",
      "text/plain": [
       "<Figure size 432x288 with 1 Axes>"
      ]
     },
     "metadata": {
      "needs_background": "light"
     },
     "output_type": "display_data"
    },
    {
     "data": {
      "image/png": "[encoded data removed]",
      "text/plain": [
       "<Figure size 432x288 with 1 Axes>"
      ]
     },
     "metadata": {
      "needs_background": "light"
     },
     "output_type": "display_data"
    },
    {
     "data": {
      "image/png": "[encoded data removed]",
      "text/plain": [
       "<Figure size 432x288 with 1 Axes>"
      ]
     },
     "metadata": {
      "needs_background": "light"
     },
     "output_type": "display_data"
    }
   ],
   "source": [
    "#### Plot Naive Bayes\n",
    "    \n",
    "plt.figure()\n",
    "plt.plot(noise_list, Naive_L2_Difference_List)\n",
    "plt.title(\"L2 Difference\")\n",
    "plt.xlabel(\"Noise Amount\")\n",
    "plt.ylabel(\"L2 Difference \")\n",
    "\n",
    "plt.figure()\n",
    "plt.plot(noise_list, Naive_Accuracy_List)\n",
    "plt.xlabel(\"Noise Amount\")\n",
    "plt.ylabel(\"Accuracy\")\n",
    "\n",
    "plt.figure()\n",
    "plt.plot(noise_list, Naive_Precision_List)\n",
    "plt.xlabel(\"Noise Amount\")\n",
    "plt.ylabel(\"Precision\")\n",
    "\n",
    "plt.figure()\n",
    "plt.plot(noise_list, Naive_Recall_List)\n",
    "plt.xlabel(\"Noise Amount\")\n",
    "plt.ylabel(\"Recall\")\n",
    "\n",
    "plt.figure()\n",
    "plt.plot(noise_list, Naive_AUC_List)\n",
    "plt.xlabel(\"Noise Amount\")\n",
    "plt.ylabel(\"AUC\")\n",
    "plt.show()"
   ]
  },
  {
   "cell_type": "code",
   "execution_count": null,
   "metadata": {},
   "outputs": [],
   "source": []
  },
  {
   "cell_type": "code",
   "execution_count": null,
   "metadata": {},
   "outputs": [],
   "source": []
  },
  {
   "cell_type": "code",
   "execution_count": null,
   "metadata": {},
   "outputs": [],
   "source": []
  }
 ],
 "metadata": {
  "kernelspec": {
   "display_name": "Python [conda env:AI] *",
   "language": "python",
   "name": "conda-env-AI-py"
  },
  "language_info": {
   "codemirror_mode": {
    "name": "ipython",
    "version": 3
   },
   "file_extension": ".py",
   "mimetype": "text/x-python",
   "name": "python",
   "nbconvert_exporter": "python",
   "pygments_lexer": "ipython3",
   "version": "3.7.4"
  },
  "toc": {
   "base_numbering": 1,
   "nav_menu": {},
   "number_sections": true,
   "sideBar": true,
   "skip_h1_title": true,
   "title_cell": "Table of Contents",
   "title_sidebar": "Contents",
   "toc_cell": false,
   "toc_position": {
    "height": "calc(100% - 180px)",
    "left": "10px",
    "top": "150px",
    "width": "498.6px"
   },
   "toc_section_display": true,
   "toc_window_display": true
  }
 },
 "nbformat": 4,
 "nbformat_minor": 4
}
